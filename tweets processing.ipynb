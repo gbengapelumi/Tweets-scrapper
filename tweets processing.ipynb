{
 "cells": [
  {
   "cell_type": "code",
   "execution_count": 55,
   "metadata": {},
   "outputs": [],
   "source": [
    "import pandas as pd"
   ]
  },
  {
   "cell_type": "code",
   "execution_count": 56,
   "metadata": {},
   "outputs": [],
   "source": [
    "data1 = pd.read_csv('SayNotoSocialMediaBill_2019_Jul.csv')\n",
    "data2 = pd.read_csv('SayNotoSocialMediaBill_2019_Aug.csv')\n",
    "data3 = pd.read_csv('SayNotoSocialMediaBill_2019_Sep.csv')\n",
    "data4 = pd.read_csv('SayNotoSocialMediaBill_2019_Oct.csv')\n",
    "data5 = pd.read_csv('SayNotoSocialMediaBill_2019_Dec.csv')\n",
    "data6 = pd.read_csv('SayNotoSocialMediaBill_2019_Nov10.csv')\n",
    "data7 = pd.read_csv('SayNotoSocialMediaBill_2019_Nov20.csv')\n",
    "data8 = pd.read_csv('SayNotoSocialMediaBill_2019_Nov30.csv')"
   ]
  },
  {
   "cell_type": "code",
   "execution_count": 57,
   "metadata": {},
   "outputs": [],
   "source": [
    "data1 = data1.drop_duplicates()\n",
    "data2 = data2.drop_duplicates()\n",
    "data3 = data3.drop_duplicates()\n",
    "data4 = data4.drop_duplicates()\n",
    "data5 = data5.drop_duplicates()\n",
    "data6 = data6.drop_duplicates()\n",
    "data7 = data7.drop_duplicates()\n",
    "data8 = data8.drop_duplicates()\n"
   ]
  },
  {
   "cell_type": "code",
   "execution_count": 58,
   "metadata": {},
   "outputs": [
    {
     "data": {
      "text/plain": [
       "((0, 3), (0, 3), (0, 3), (0, 3), (931, 3), (134, 3), (46, 3), (10000, 3))"
      ]
     },
     "execution_count": 58,
     "metadata": {},
     "output_type": "execute_result"
    }
   ],
   "source": [
    "data1.shape, data2.shape, data3.shape, data4.shape, data5.shape, data6.shape, data7.shape, data8.shape"
   ]
  },
  {
   "cell_type": "code",
   "execution_count": 59,
   "metadata": {},
   "outputs": [],
   "source": [
    "SayNotoSocialMediaBill_tweets = pd.concat([data1, data2, data3, data4, data5, data6, data7, data8])"
   ]
  },
  {
   "cell_type": "code",
   "execution_count": 60,
   "metadata": {},
   "outputs": [
    {
     "data": {
      "text/html": [
       "<div>\n",
       "<style scoped>\n",
       "    .dataframe tbody tr th:only-of-type {\n",
       "        vertical-align: middle;\n",
       "    }\n",
       "\n",
       "    .dataframe tbody tr th {\n",
       "        vertical-align: top;\n",
       "    }\n",
       "\n",
       "    .dataframe thead th {\n",
       "        text-align: right;\n",
       "    }\n",
       "</style>\n",
       "<table border=\"1\" class=\"dataframe\">\n",
       "  <thead>\n",
       "    <tr style=\"text-align: right;\">\n",
       "      <th></th>\n",
       "      <th>Unnamed: 0</th>\n",
       "      <th>Datetime</th>\n",
       "      <th>Text</th>\n",
       "    </tr>\n",
       "  </thead>\n",
       "  <tbody>\n",
       "    <tr>\n",
       "      <th>0</th>\n",
       "      <td>0</td>\n",
       "      <td>2019-12-30 17:10:18+00:00</td>\n",
       "      <td>I Wish #NairaMarley fans would have much love ...</td>\n",
       "    </tr>\n",
       "    <tr>\n",
       "      <th>1</th>\n",
       "      <td>1</td>\n",
       "      <td>2019-12-30 10:45:38+00:00</td>\n",
       "      <td>Today is Monday,let's talk about how we are be...</td>\n",
       "    </tr>\n",
       "    <tr>\n",
       "      <th>2</th>\n",
       "      <td>2</td>\n",
       "      <td>2019-12-30 10:43:59+00:00</td>\n",
       "      <td>#saynotosocialmediabill say no to #37Billion #...</td>\n",
       "    </tr>\n",
       "    <tr>\n",
       "      <th>3</th>\n",
       "      <td>3</td>\n",
       "      <td>2019-12-29 15:41:18+00:00</td>\n",
       "      <td>@aishambuhari #SayNoToSocialMediaBill #ZeroTol...</td>\n",
       "    </tr>\n",
       "    <tr>\n",
       "      <th>4</th>\n",
       "      <td>4</td>\n",
       "      <td>2019-12-28 11:19:31+00:00</td>\n",
       "      <td>Wait o! Fuel really came through during this f...</td>\n",
       "    </tr>\n",
       "  </tbody>\n",
       "</table>\n",
       "</div>"
      ],
      "text/plain": [
       "  Unnamed: 0                   Datetime  \\\n",
       "0          0  2019-12-30 17:10:18+00:00   \n",
       "1          1  2019-12-30 10:45:38+00:00   \n",
       "2          2  2019-12-30 10:43:59+00:00   \n",
       "3          3  2019-12-29 15:41:18+00:00   \n",
       "4          4  2019-12-28 11:19:31+00:00   \n",
       "\n",
       "                                                Text  \n",
       "0  I Wish #NairaMarley fans would have much love ...  \n",
       "1  Today is Monday,let's talk about how we are be...  \n",
       "2  #saynotosocialmediabill say no to #37Billion #...  \n",
       "3  @aishambuhari #SayNoToSocialMediaBill #ZeroTol...  \n",
       "4  Wait o! Fuel really came through during this f...  "
      ]
     },
     "execution_count": 60,
     "metadata": {},
     "output_type": "execute_result"
    }
   ],
   "source": [
    "SayNotoSocialMediaBill_tweets.head()"
   ]
  },
  {
   "cell_type": "code",
   "execution_count": 61,
   "metadata": {},
   "outputs": [
    {
     "data": {
      "text/plain": [
       "(11111, 3)"
      ]
     },
     "execution_count": 61,
     "metadata": {},
     "output_type": "execute_result"
    }
   ],
   "source": [
    "SayNotoSocialMediaBill_tweets.shape"
   ]
  },
  {
   "cell_type": "code",
   "execution_count": 63,
   "metadata": {},
   "outputs": [],
   "source": [
    "SayNotoSocialMediaBill_tweets.to_csv(\"SayNotoSocialMediaBill_tweets.csv\")"
   ]
  },
  {
   "cell_type": "code",
   "execution_count": null,
   "metadata": {},
   "outputs": [],
   "source": []
  }
 ],
 "metadata": {
  "kernelspec": {
   "display_name": "Python 3",
   "language": "python",
   "name": "python3"
  },
  "language_info": {
   "codemirror_mode": {
    "name": "ipython",
    "version": 3
   },
   "file_extension": ".py",
   "mimetype": "text/x-python",
   "name": "python",
   "nbconvert_exporter": "python",
   "pygments_lexer": "ipython3",
   "version": "3.7.6"
  }
 },
 "nbformat": 4,
 "nbformat_minor": 4
}
